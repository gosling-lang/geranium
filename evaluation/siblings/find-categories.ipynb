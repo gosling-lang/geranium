{
 "cells": [
  {
   "cell_type": "code",
   "execution_count": null,
   "metadata": {},
   "outputs": [],
   "source": [
    "import os\n",
    "import json\n",
    "import shutil"
   ]
  },
  {
   "cell_type": "code",
   "execution_count": null,
   "metadata": {},
   "outputs": [],
   "source": [
    "data_dir = \"../../data\""
   ]
  },
  {
   "cell_type": "code",
   "execution_count": null,
   "metadata": {},
   "outputs": [],
   "source": [
    "len(os.listdir(os.path.join(data_dir, \"gallery_p1/imgs\")))"
   ]
  },
  {
   "cell_type": "code",
   "execution_count": null,
   "metadata": {},
   "outputs": [],
   "source": [
    "files = os.listdir(os.path.join(data_dir, \"gallery_p1/imgs\"))\n",
    "# files_oc = [file for file in files if \"sw_1_0_s_1_0\" in file]\n",
    "# len(files_oc)"
   ]
  },
  {
   "cell_type": "code",
   "execution_count": null,
   "metadata": {},
   "outputs": [],
   "source": [
    "# get prefixes\n",
    "file_groups = {}\n",
    "for f in files:\n",
    "    prefix = f.split(\"_sw_\")[0]\n",
    "    if prefix not in file_groups:\n",
    "        file_groups[prefix] = []\n",
    "    file_groups[prefix].append(f)\n",
    "\n",
    "# do either 1_0 or 0_7 or just the first\n",
    "selected_files = []\n",
    "for prefix, group in file_groups.items():\n",
    "    best = next((f for f in group if \"_sw_1_0_s_1_0.png\" in f), None) or \\\n",
    "           next((f for f in group if \"_sw_0_7_s_0_7.png\" in f), None) or \\\n",
    "           group[0]\n",
    "\n",
    "    selected_files.append(best)\n",
    "\n",
    "# selected_files"
   ]
  },
  {
   "cell_type": "code",
   "execution_count": null,
   "metadata": {},
   "outputs": [],
   "source": [
    "for file in selected_files:\n",
    "    src = os.path.join(data_dir, \"gallery_p1/imgs\", file)\n",
    "    dst = os.path.join(data_dir, \"fig1\", file)\n",
    "    shutil.copyfile(src, dst)"
   ]
  },
  {
   "cell_type": "code",
   "execution_count": null,
   "metadata": {},
   "outputs": [],
   "source": [
    "chromoscope = 'BOCA-UK-f83fc777-5416-c3e9-e040-11ac0d482c8e.png'"
   ]
  },
  {
   "cell_type": "code",
   "execution_count": null,
   "metadata": {},
   "outputs": [],
   "source": [
    "src = os.path.join(data_dir, \"chromoscope/imgs\", chromoscope)\n",
    "dst = os.path.join(data_dir, \"categories\", chromoscope)\n",
    "shutil.copyfile(src, dst)"
   ]
  },
  {
   "cell_type": "code",
   "execution_count": null,
   "metadata": {},
   "outputs": [],
   "source": [
    "files2 = os.listdir(os.path.join(data_dir, \"gallery_p2_raw/imgs\"))\n",
    "# files2"
   ]
  },
  {
   "cell_type": "code",
   "execution_count": null,
   "metadata": {},
   "outputs": [],
   "source": [
    "keep = ['band_connection', 'basic-link', 'circulars', 'comparative-matrix', 'hi-c-matrix', 'island-viewer', 'overview-landing', 'responsive-circular', 'responsive-ideogram', 'responsive-multivec', 'rule-mark', 'single-cell-epi-corces']"
   ]
  },
  {
   "cell_type": "code",
   "execution_count": null,
   "metadata": {},
   "outputs": [],
   "source": [
    "for file in keep:\n",
    "    file = f\"{file}.png\"\n",
    "    src = os.path.join(data_dir, \"gallery_p2_raw/imgs\", file)\n",
    "    dst = os.path.join(data_dir, \"categories\", file)\n",
    "    shutil.copyfile(src, dst)"
   ]
  },
  {
   "cell_type": "code",
   "execution_count": null,
   "metadata": {},
   "outputs": [],
   "source": [
    "final = os.listdir(os.path.join(data_dir, \"categories\"))\n",
    "len(final)"
   ]
  }
 ],
 "metadata": {
  "kernelspec": {
   "display_name": ".venv",
   "language": "python",
   "name": "python3"
  },
  "language_info": {
   "codemirror_mode": {
    "name": "ipython",
    "version": 3
   },
   "file_extension": ".py",
   "mimetype": "text/x-python",
   "name": "python",
   "nbconvert_exporter": "python",
   "pygments_lexer": "ipython3",
   "version": "3.11.4"
  }
 },
 "nbformat": 4,
 "nbformat_minor": 2
}
