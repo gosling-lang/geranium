{
 "cells": [
  {
   "cell_type": "code",
   "execution_count": 1,
   "metadata": {},
   "outputs": [],
   "source": [
    "import os\n",
    "import pandas as pd\n",
    "from IPython.display import display_html, HTML"
   ]
  },
  {
   "cell_type": "code",
   "execution_count": 2,
   "metadata": {},
   "outputs": [],
   "source": [
    "prefixes_path = \"../server/embeddings/analysis/prefixes.txt\"\n",
    "data_path = \"../data\""
   ]
  },
  {
   "cell_type": "code",
   "execution_count": 3,
   "metadata": {},
   "outputs": [],
   "source": [
    "with open(prefixes_path, \"r\") as f:\n",
    "    prefixes = [line.rstrip() for line in f.readlines()]"
   ]
  },
  {
   "cell_type": "code",
   "execution_count": 4,
   "metadata": {},
   "outputs": [
    {
     "data": {
      "text/plain": [
       "161"
      ]
     },
     "execution_count": 4,
     "metadata": {},
     "output_type": "execute_result"
    }
   ],
   "source": [
    "index_set_single = [file.split(\".\")[0] for file in os.listdir(os.path.join(data_path, \"indexed/single_chart\"))]\n",
    "index_set_multiple = [file.split(\".\")[0] for file in os.listdir(os.path.join(data_path, \"indexed/multiple_chart/imgs\"))]\n",
    "\n",
    "index_set = []\n",
    "index_set.extend(index_set_single)\n",
    "index_set.extend(index_set_multiple)\n",
    "index_set.sort()\n",
    "\n",
    "len(index_set)"
   ]
  },
  {
   "cell_type": "code",
   "execution_count": 5,
   "metadata": {},
   "outputs": [],
   "source": [
    "all_data = [file.split(\".\")[0] for file in os.listdir(os.path.join(data_path, \"unified/specs\"))]\n",
    "all_data.sort()"
   ]
  },
  {
   "cell_type": "code",
   "execution_count": 6,
   "metadata": {},
   "outputs": [],
   "source": [
    "df = pd.DataFrame(all_data, columns=[\"file_name\"])\n",
    "\n",
    "df['class'] = df['file_name'].apply(lambda x: next((pre for pre in prefixes if x.startswith(pre)), None))\n",
    "df['index'] = df['file_name'].apply(lambda x: True if x in index_set else False)"
   ]
  },
  {
   "cell_type": "code",
   "execution_count": 7,
   "metadata": {},
   "outputs": [],
   "source": [
    "df_index = df[df['index']]\n",
    "index_dict = df_index.set_index('file_name')['class'].to_dict()"
   ]
  },
  {
   "cell_type": "code",
   "execution_count": 8,
   "metadata": {},
   "outputs": [],
   "source": [
    "chromoscope = [\"BOCA\", \"BRCA\", \"BTCA\", \"GBM\", \"LIRI\", \"PBCA\"]\n",
    "chromoscope2 = [\"breast-\", \"gastric\", \"kidney\", \"ovarian serous cystadenocarcinoma\", \"ovarian\", \"prostate adenocarcinoma\", \"sarcoma\"]\n",
    "missed = [] #temp\n",
    "\n",
    "def get_original(file_name, prefix):\n",
    "    if file_name in index_set:\n",
    "        return file_name\n",
    "    if prefix.split(\"-\")[0] in chromoscope or prefix.split(\"-\")[0] in chromoscope2:\n",
    "        return 'BOCA-UK-f83fc777-5416-c3e9-e040-11ac0d482c8e'\n",
    "    if \"_oc\" or \"_cc_\" in file_name:\n",
    "        matches = [index for index, index_pre in index_dict.items() if index_pre == prefix]\n",
    "        if len(matches) == 0: \n",
    "            # print(\"error on no matches at all?\", file_name)\n",
    "            missed.append(file_name)\n",
    "            return None\n",
    "        elif len(matches) == 1: \n",
    "            return matches[0]\n",
    "        \n",
    "        # this is only for the EX_SPEC_CYTOBANDS example\n",
    "        if file_name.endswith('circular'):\n",
    "            return matches[1]\n",
    "        if file_name.endswith('serial'):\n",
    "            return None\n",
    "        \n",
    "        if \"_oc\" in file_name:\n",
    "            filtered_matches = [match for match in matches if match.endswith(\"_oc\")]\n",
    "            if len(filtered_matches) == 0: \n",
    "                print(\"error on _oc?\", file_name)\n",
    "            return filtered_matches[0]\n",
    "        else:\n",
    "            color = file_name.split(\"_cc_\")[-1]\n",
    "            filtered_matches = [match for match in matches if f\"_cc_{color}\" in match] \n",
    "            if len(filtered_matches) == 0:\n",
    "                return matches[0]\n",
    "            return filtered_matches[0]\n",
    "    missed.append(file_name)\n",
    "    return None"
   ]
  },
  {
   "cell_type": "code",
   "execution_count": 9,
   "metadata": {},
   "outputs": [],
   "source": [
    "df['original'] = df.apply(lambda row: get_original(row['file_name'], row['class']), axis=1)"
   ]
  },
  {
   "cell_type": "code",
   "execution_count": 10,
   "metadata": {},
   "outputs": [
    {
     "data": {
      "text/plain": [
       "706"
      ]
     },
     "execution_count": 10,
     "metadata": {},
     "output_type": "execute_result"
    }
   ],
   "source": [
    "len(missed)"
   ]
  },
  {
   "cell_type": "code",
   "execution_count": 11,
   "metadata": {},
   "outputs": [
    {
     "data": {
      "text/html": [
       "<div>\n",
       "<style scoped>\n",
       "    .dataframe tbody tr th:only-of-type {\n",
       "        vertical-align: middle;\n",
       "    }\n",
       "\n",
       "    .dataframe tbody tr th {\n",
       "        vertical-align: top;\n",
       "    }\n",
       "\n",
       "    .dataframe thead th {\n",
       "        text-align: right;\n",
       "    }\n",
       "</style>\n",
       "<table border=\"1\" class=\"dataframe\">\n",
       "  <thead>\n",
       "    <tr style=\"text-align: right;\">\n",
       "      <th></th>\n",
       "      <th>file_name</th>\n",
       "      <th>class</th>\n",
       "      <th>index</th>\n",
       "      <th>original</th>\n",
       "    </tr>\n",
       "  </thead>\n",
       "  <tbody>\n",
       "    <tr>\n",
       "      <th>0</th>\n",
       "      <td>AREA_sw_0_7_s_0_7_cc_0</td>\n",
       "      <td>AREA</td>\n",
       "      <td>True</td>\n",
       "      <td>AREA_sw_0_7_s_0_7_cc_0</td>\n",
       "    </tr>\n",
       "    <tr>\n",
       "      <th>1</th>\n",
       "      <td>AREA_sw_0_7_s_0_7_cc_1</td>\n",
       "      <td>AREA</td>\n",
       "      <td>False</td>\n",
       "      <td>AREA_sw_0_7_s_1_0_cc_1</td>\n",
       "    </tr>\n",
       "    <tr>\n",
       "      <th>2</th>\n",
       "      <td>AREA_sw_0_7_s_0_7_cc_2</td>\n",
       "      <td>AREA</td>\n",
       "      <td>False</td>\n",
       "      <td>AREA_sw_1_2_s_0_7_cc_2</td>\n",
       "    </tr>\n",
       "    <tr>\n",
       "      <th>3</th>\n",
       "      <td>AREA_sw_0_7_s_0_7_cc_3</td>\n",
       "      <td>AREA</td>\n",
       "      <td>False</td>\n",
       "      <td>AREA_sw_0_7_s_1_2_cc_3</td>\n",
       "    </tr>\n",
       "    <tr>\n",
       "      <th>4</th>\n",
       "      <td>AREA_sw_0_7_s_0_7_oc</td>\n",
       "      <td>AREA</td>\n",
       "      <td>False</td>\n",
       "      <td>AREA_sw_1_0_s_0_7_oc</td>\n",
       "    </tr>\n",
       "  </tbody>\n",
       "</table>\n",
       "</div>"
      ],
      "text/plain": [
       "                file_name class  index                original\n",
       "0  AREA_sw_0_7_s_0_7_cc_0  AREA   True  AREA_sw_0_7_s_0_7_cc_0\n",
       "1  AREA_sw_0_7_s_0_7_cc_1  AREA  False  AREA_sw_0_7_s_1_0_cc_1\n",
       "2  AREA_sw_0_7_s_0_7_cc_2  AREA  False  AREA_sw_1_2_s_0_7_cc_2\n",
       "3  AREA_sw_0_7_s_0_7_cc_3  AREA  False  AREA_sw_0_7_s_1_2_cc_3\n",
       "4    AREA_sw_0_7_s_0_7_oc  AREA  False    AREA_sw_1_0_s_0_7_oc"
      ]
     },
     "execution_count": 11,
     "metadata": {},
     "output_type": "execute_result"
    }
   ],
   "source": [
    "df.head()"
   ]
  },
  {
   "cell_type": "code",
   "execution_count": 12,
   "metadata": {},
   "outputs": [],
   "source": [
    "with open(\"missed.txt\", \"w\") as f:\n",
    "    for m in missed: \n",
    "        f.write(m)\n",
    "        f.write(\"\\n\")"
   ]
  },
  {
   "cell_type": "code",
   "execution_count": 13,
   "metadata": {},
   "outputs": [],
   "source": [
    "df.to_csv(\"siblings.csv\")"
   ]
  },
  {
   "cell_type": "code",
   "execution_count": 14,
   "metadata": {},
   "outputs": [],
   "source": [
    "result = df.groupby('original')['file_name'].apply(list).to_dict()\n",
    "result = {key : [v for v in value if v != key] for key, value in result.items()}\n",
    "import json\n",
    "\n",
    "with open(\"siblings.json\", \"w\") as f:\n",
    "    f.write(json.dumps(result))"
   ]
  },
  {
   "cell_type": "code",
   "execution_count": null,
   "metadata": {},
   "outputs": [],
   "source": [
    "df[\"image\"] = df[\"file_name\"].apply(lambda x: f\"{data_path}/unified/imgs/{x}.png\")\n",
    "df[\"image_original\"] = df[\"original\"].apply(lambda x: f\"{data_path}/unified/imgs/{x}.png\")\n",
    "\n",
    "def display_images_in_table(df):\n",
    "    html = \"\"\"<table border='1' style='border-collapse: collapse; text-align: left;'>\n",
    "              <tr>\"\"\"  \n",
    "\n",
    "    html += \"\".join(f\"<th style='padding: 4px; text-align: left; white-space: normal;'>{col}</th>\" for col in df.columns if (col != \"image\" and col != \"image_original\"))\n",
    "    html += \"<th style='padding: 4px;'>Image</th>\"\n",
    "    html += \"<th style='padding: 4px;'>Image Original</th></tr>\"\n",
    "\n",
    "    for _, row in df.iterrows():\n",
    "        html += \"<tr>\"\n",
    "        html += \"\".join(f\"<td style='padding: 4px; text-align: left; white-space: normal; word-break: break-word;'>{row[col]}</td>\" for col in df.columns if (col != \"image\" and col != \"image_original\"))\n",
    "        html += f\"<td style='padding: 4px;'><img src='{row['image']}' style='width:300px;'></td>\"\n",
    "        html += f\"<td style='padding: 4px;'><img src='{row['image_original']}' style='width:300px;'></td>\"\n",
    "        html += \"</tr>\"\n",
    "\n",
    "    html += \"</table>\"\n",
    "\n",
    "    display_html(HTML(html))\n",
    "    \n",
    "display_images_in_table(df)"
   ]
  }
 ],
 "metadata": {
  "kernelspec": {
   "display_name": ".venv",
   "language": "python",
   "name": "python3"
  },
  "language_info": {
   "codemirror_mode": {
    "name": "ipython",
    "version": 3
   },
   "file_extension": ".py",
   "mimetype": "text/x-python",
   "name": "python",
   "nbconvert_exporter": "python",
   "pygments_lexer": "ipython3",
   "version": "3.11.4"
  }
 },
 "nbformat": 4,
 "nbformat_minor": 2
}
