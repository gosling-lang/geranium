{
 "cells": [
  {
   "cell_type": "code",
   "execution_count": 40,
   "metadata": {
    "tags": []
   },
   "outputs": [],
   "source": [
    "# - remove last categories\n",
    "# - change opacity, stroke\n",
    "# - axis: bottom\n",
    "# - binsize\n",
    "# - title: add data type as title/remove title\n",
    "# - legend: add/remove\n",
    "# - remove axis"
   ]
  },
  {
   "cell_type": "markdown",
   "metadata": {},
   "source": [
    "### Multiple View"
   ]
  },
  {
   "cell_type": "code",
   "execution_count": 5,
   "metadata": {
    "tags": []
   },
   "outputs": [
    {
     "name": "stdout",
     "output_type": "stream",
     "text": [
      "Created copies in destination: EX_SPEC_MOUSE_EVENT_sw_1_2_s_1_2_oc_query1.json, EX_SPEC_MOUSE_EVENT_sw_1_2_s_1_2_oc_query2.json\n",
      "Created copies in destination: EX_SPEC_GREMLIN_sw_1_0_s_1_0_oc_query1.json, EX_SPEC_GREMLIN_sw_1_0_s_1_0_oc_query2.json\n",
      "Created copies in destination: EX_SPEC_CLINVAR_LOLLIPOP_sw_1_2_s_1_2_oc_query1.json, EX_SPEC_CLINVAR_LOLLIPOP_sw_1_2_s_1_2_oc_query2.json\n",
      "Created copies in destination: EX_SPEC_ALIGNMENT_CHART_sw_1_0_s_1_0_oc_query1.json, EX_SPEC_ALIGNMENT_CHART_sw_1_0_s_1_0_oc_query2.json\n",
      "Created copies in destination: EX_SPEC_MATRIX_HFFC6_sw_1_0_s_1_0_hot_query1.json, EX_SPEC_MATRIX_HFFC6_sw_1_0_s_1_0_hot_query2.json\n",
      "Created copies in destination: EX_SPEC_TEMPLATE_sw_1_0_s_1_0_oc_query1.json, EX_SPEC_TEMPLATE_sw_1_0_s_1_0_oc_query2.json\n",
      "Created copies in destination: EX_SPEC_MATRIX_sw_0_7_s_0_7_cc_1_query1.json, EX_SPEC_MATRIX_sw_0_7_s_0_7_cc_1_query2.json\n",
      "Created copies in destination: single-cell-epi-corces_p_1_sw_1_0_s_1_0_query1.json, single-cell-epi-corces_p_1_sw_1_0_s_1_0_query2.json\n",
      "Created copies in destination: EX_SPEC_RESPONSIVE_TRACK_WISE_COMPARISON_sw_1_0_s_1_0_oc_query1.json, EX_SPEC_RESPONSIVE_TRACK_WISE_COMPARISON_sw_1_0_s_1_0_oc_query2.json\n",
      "Created copies in destination: EX_SPEC_CANCER_VARIANT_PROTOTYPE_sw_1_0_s_1_2_query1.json, EX_SPEC_CANCER_VARIANT_PROTOTYPE_sw_1_0_s_1_2_query2.json\n",
      "Created copies in destination: EX_SPEC_MOUSE_EVENT_sw_0_7_s_1_0_cc_2_query1.json, EX_SPEC_MOUSE_EVENT_sw_0_7_s_1_0_cc_2_query2.json\n",
      "Created copies in destination: EX_SPEC_MATRIX_sw_0_7_s_0_7_oc_viridis_query1.json, EX_SPEC_MATRIX_sw_0_7_s_0_7_oc_viridis_query2.json\n",
      "Created copies in destination: VCF_INDELS_sw_1_0_s_1_0_oc_query1.json, VCF_INDELS_sw_1_0_s_1_0_oc_query2.json\n",
      "Created copies in destination: LINKING_TRACKS_sw_0_7_s_0_7_cc_0_query1.json, LINKING_TRACKS_sw_0_7_s_0_7_cc_0_query2.json\n",
      "Created copies in destination: circulars_p_3_cc_0_query1.json, circulars_p_3_cc_0_query2.json\n",
      "Created copies in destination: overview-landing_oc_query1.json, overview-landing_oc_query2.json\n",
      "Created copies in destination: BOCA-UK-f83fc777-5416-c3e9-e040-11ac0d482c8e_query1.json, BOCA-UK-f83fc777-5416-c3e9-e040-11ac0d482c8e_query2.json\n",
      "Created copies in destination: EX_SPEC_RESPONSIVE_COMPARATIVE_VIEWS_sw_0_7_s_1_0_oc_query1.json, EX_SPEC_RESPONSIVE_COMPARATIVE_VIEWS_sw_0_7_s_1_0_oc_query2.json\n",
      "Created copies in destination: circulars_p_4_oc_query1.json, circulars_p_4_oc_query2.json\n",
      "Created copies in destination: multiple_view_p_2_m_11_sw_1_0_s_1_0_p_0_sw_1_2_s_1_2_oc_query1.json, multiple_view_p_2_m_11_sw_1_0_s_1_0_p_0_sw_1_2_s_1_2_oc_query2.json\n",
      "Created copies in destination: EX_SPEC_LINKING_sw_1_0_s_1_0_cc_0_query1.json, EX_SPEC_LINKING_sw_1_0_s_1_0_cc_0_query2.json\n",
      "Created copies in destination: EX_SPEC_GIVE_sw_1_0_s_1_0_query1.json, EX_SPEC_GIVE_sw_1_0_s_1_0_query2.json\n",
      "Created copies in destination: EX_SPEC_SARS_COV_2_sw_1_0_s_1_0_oc_query1.json, EX_SPEC_SARS_COV_2_sw_1_0_s_1_0_oc_query2.json\n",
      "Created copies in destination: gene_annotation_p_4_sw_1_0_s_1_0_query1.json, gene_annotation_p_4_sw_1_0_s_1_0_query2.json\n",
      "Created copies in destination: BRUSH_sw_1_2_s_1_0_oc_query1.json, BRUSH_sw_1_2_s_1_0_oc_query2.json\n",
      "Created copies in destination: BED_DEMO_sw_0_7_s_0_7_oc_p_0_sw_1_2_s_1_0_cc_0_query1.json, BED_DEMO_sw_0_7_s_0_7_oc_p_0_sw_1_2_s_1_0_cc_0_query2.json\n",
      "Created copies in destination: BED_DEMO_sw_0_7_s_0_7_oc_p_0_sw_1_2_s_1_2_oc_query1.json, BED_DEMO_sw_0_7_s_0_7_oc_p_0_sw_1_2_s_1_2_oc_query2.json\n",
      "Created copies in destination: EX_SPEC_RESPONSIVE_COMPARATIVE_VIEWS_sw_0_7_s_0_7_oc_query1.json, EX_SPEC_RESPONSIVE_COMPARATIVE_VIEWS_sw_0_7_s_0_7_oc_query2.json\n",
      "Created copies in destination: LINKING_TRACKS_sw_1_2_s_1_2_oc_query1.json, LINKING_TRACKS_sw_1_2_s_1_2_oc_query2.json\n",
      "Created copies in destination: BRUSH_sw_1_0_s_1_2_cc_1_query1.json, BRUSH_sw_1_0_s_1_2_cc_1_query2.json\n",
      "Created copies in destination: EX_SPEC_MARK_DISPLACEMENT_sw_1_0_s_1_0_oc_query1.json, EX_SPEC_MARK_DISPLACEMENT_sw_1_0_s_1_0_oc_query2.json\n",
      "Created copies in destination: EX_SPEC_PERF_ALIGNMENT_sw_1_0_s_1_0_oc_query1.json, EX_SPEC_PERF_ALIGNMENT_sw_1_0_s_1_0_oc_query2.json\n",
      "Created copies in destination: EX_SPEC_PILEUP_sw_1_0_s_1_0_oc_query1.json, EX_SPEC_PILEUP_sw_1_0_s_1_0_oc_query2.json\n",
      "Created copies in destination: EX_SPEC_CIRCULAR_OVERVIEW_LINEAR_DETAIL_sw_0_7_s_1_0_cc_0_query1.json, EX_SPEC_CIRCULAR_OVERVIEW_LINEAR_DETAIL_sw_0_7_s_1_0_cc_0_query2.json\n",
      "Created copies in destination: EX_SPEC_MATRIX_sw_0_7_s_0_7_oc_bupu_query1.json, EX_SPEC_MATRIX_sw_0_7_s_0_7_oc_bupu_query2.json\n",
      "Created copies in destination: EX_SPEC_CIRCULAR_OVERVIEW_LINEAR_DETAIL_sw_1_2_s_1_2_oc_query1.json, EX_SPEC_CIRCULAR_OVERVIEW_LINEAR_DETAIL_sw_1_2_s_1_2_oc_query2.json\n",
      "Created copies in destination: overview-landing_cc_0_query1.json, overview-landing_cc_0_query2.json\n",
      "Created copies in destination: multiple_view_p_2_m_11_sw_1_0_s_1_0_p_1_sw_1_0_s_1_0_cc_0_query1.json, multiple_view_p_2_m_11_sw_1_0_s_1_0_p_1_sw_1_0_s_1_0_cc_0_query2.json\n",
      "Created copies in destination: EX_SPEC_MATRIX_HFFC6_sw_1_2_s_1_2_recolor_query1.json, EX_SPEC_MATRIX_HFFC6_sw_1_2_s_1_2_recolor_query2.json\n",
      "Created copies in destination: EX_SPEC_CLINVAR_LOLLIPOP_sw_0_7_s_1_0_cc_0_query1.json, EX_SPEC_CLINVAR_LOLLIPOP_sw_0_7_s_1_0_cc_0_query2.json\n",
      "Created copies in destination: BRUSH_sw_0_7_s_0_7_cc_1_query1.json, BRUSH_sw_0_7_s_0_7_cc_1_query2.json\n",
      "Created copies in destination: EX_SPEC_MATRIX_sw_0_7_s_0_7_oc_query1.json, EX_SPEC_MATRIX_sw_0_7_s_0_7_oc_query2.json\n"
     ]
    }
   ],
   "source": [
    "import os\n",
    "import shutil\n",
    "\n",
    "def create_json_copies(source_folder, destination_folder):\n",
    "    # Ensure the source folder exists\n",
    "    if not os.path.isdir(source_folder):\n",
    "        print(f\"The source folder {source_folder} does not exist.\")\n",
    "        return\n",
    "\n",
    "    # Ensure the destination folder exists, or create it\n",
    "    if not os.path.isdir(destination_folder):\n",
    "        os.makedirs(destination_folder)\n",
    "        print(f\"Created destination folder: {destination_folder}\")\n",
    "\n",
    "    # List all files in the source folder\n",
    "    for filename in os.listdir(source_folder):\n",
    "        # Check if the file is a JSON file\n",
    "        if filename.endswith('.json'):\n",
    "            # Construct the full file path for the source\n",
    "            source_file_path = os.path.join(source_folder, filename)\n",
    "            \n",
    "            # Create two new file names\n",
    "            base_name = os.path.splitext(filename)[0]  # Remove the .json extension\n",
    "            query1_filename = f\"{base_name}_query1.json\"\n",
    "            query2_filename = f\"{base_name}_query2.json\"\n",
    "\n",
    "            # Construct the full paths for the new files in the destination folder\n",
    "            query1_file_path = os.path.join(destination_folder, query1_filename)\n",
    "            query2_file_path = os.path.join(destination_folder, query2_filename)\n",
    "\n",
    "            # Copy the original file to the new files in the destination folder\n",
    "            shutil.copy(source_file_path, query1_file_path)\n",
    "            shutil.copy(source_file_path, query2_file_path)\n",
    "            print(f\"Created copies in destination: {query1_filename}, {query2_filename}\")\n",
    "\n",
    "# Example usage\n",
    "source_folder_path = './multiple_chart_query'  # Replace with the actual path to your source folder\n",
    "destination_folder_path = './queries2'  # Replace with the actual path to your destination folder\n",
    "create_json_copies(source_folder_path, destination_folder_path)"
   ]
  },
  {
   "cell_type": "code",
   "execution_count": 4,
   "metadata": {
    "tags": []
   },
   "outputs": [],
   "source": [
    "import os\n",
    "import json\n",
    "\n",
    "def remove_titles_from_folder(folder_path):\n",
    "    \"\"\"\n",
    "    Removes 'title' and 'subtitle' from all JSON files in the specified folder.\n",
    "    Overwrites each file with the updated content.\n",
    "    \"\"\"\n",
    "    def remove_title(obj):\n",
    "        if isinstance(obj, dict):\n",
    "            obj.pop(\"title\", None)\n",
    "            obj.pop(\"subtitle\", None)\n",
    "            for value in obj.values():\n",
    "                remove_title(value)\n",
    "        elif isinstance(obj, list):\n",
    "            for item in obj:\n",
    "                remove_title(item)\n",
    "\n",
    "    for file_name in os.listdir(folder_path):\n",
    "        if file_name.endswith(\".json\"):\n",
    "            file_path = os.path.join(folder_path, file_name)\n",
    "\n",
    "            with open(file_path, \"r\") as f:\n",
    "                data_json = json.load(f)\n",
    "\n",
    "            remove_title(data_json)\n",
    "\n",
    "            with open(file_path, \"w\") as f:\n",
    "                json.dump(data_json, f, indent=2)\n",
    "\n",
    "remove_titles_from_folder('./queries')"
   ]
  },
  {
   "cell_type": "code",
   "execution_count": null,
   "metadata": {},
   "outputs": [],
   "source": []
  }
 ],
 "metadata": {
  "kernelspec": {
   "display_name": "Python 3 (ipykernel)",
   "language": "python",
   "name": "python3"
  },
  "language_info": {
   "codemirror_mode": {
    "name": "ipython",
    "version": 3
   },
   "file_extension": ".py",
   "mimetype": "text/x-python",
   "name": "python",
   "nbconvert_exporter": "python",
   "pygments_lexer": "ipython3",
   "version": "3.11.5"
  }
 },
 "nbformat": 4,
 "nbformat_minor": 4
}
