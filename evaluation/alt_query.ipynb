{
 "cells": [
  {
   "cell_type": "code",
   "execution_count": 1,
   "metadata": {},
   "outputs": [
    {
     "data": {
      "text/plain": [
       "True"
      ]
     },
     "execution_count": 1,
     "metadata": {},
     "output_type": "execute_result"
    }
   ],
   "source": [
    "from openai import OpenAI\n",
    "import os\n",
    "import json\n",
    "from dotenv import load_dotenv\n",
    "\n",
    "load_dotenv()"
   ]
  },
  {
   "cell_type": "code",
   "execution_count": 2,
   "metadata": {},
   "outputs": [],
   "source": [
    "API_KEY = os.environ['API_KEY']"
   ]
  },
  {
   "cell_type": "code",
   "execution_count": 3,
   "metadata": {},
   "outputs": [],
   "source": [
    "data_path = \"../data\"\n",
    "indexed_set = [\n",
    "    file.split(\".png\")[0]\n",
    "    for file in os.listdir(os.path.join(data_path, \"indexed/single_chart\"))\n",
    "    if file.endswith(\".png\")\n",
    "]\n",
    "specs_dir = os.path.join(data_path, \"unified/specs\")"
   ]
  },
  {
   "cell_type": "code",
   "execution_count": 4,
   "metadata": {},
   "outputs": [
    {
     "data": {
      "text/plain": [
       "161"
      ]
     },
     "execution_count": 4,
     "metadata": {},
     "output_type": "execute_result"
    }
   ],
   "source": [
    "index_set_single = [file.split(\".\")[0] for file in os.listdir(os.path.join(data_path, \"indexed/single_chart\"))]\n",
    "index_set_multiple = [file.split(\".\")[0] for file in os.listdir(os.path.join(data_path, \"indexed/multiple_chart/imgs\"))]\n",
    "\n",
    "index_set = []\n",
    "index_set.extend(index_set_single)\n",
    "index_set.extend(index_set_multiple)\n",
    "index_set.sort()\n",
    "\n",
    "len(index_set)"
   ]
  },
  {
   "cell_type": "code",
   "execution_count": 5,
   "metadata": {},
   "outputs": [],
   "source": [
    "def get_prompt(alt):\n",
    "    prompt = f\"\"\"\n",
    "    Give me a short text query to find a visualization, and the correct answer has this description: {alt}\n",
    "\n",
    "    For example, if the correct answer is this: Chart with area displayed. The genome is shown on the x-axis. The expression is shown on the y-axis with area displayed. The color of the area displayed is purple.\n",
    "    Then a query can be: Genomic expression area chart purple\n",
    "    \"\"\"\n",
    "    return prompt"
   ]
  },
  {
   "cell_type": "code",
   "execution_count": 6,
   "metadata": {},
   "outputs": [],
   "source": [
    "def send_prompt(prompt, model):\n",
    "    client = OpenAI(\n",
    "        api_key=API_KEY\n",
    "    )\n",
    "\n",
    "    response = client.chat.completions.create(\n",
    "        messages=[\n",
    "            {\n",
    "                \"role\": \"user\",\n",
    "                \"content\": [\n",
    "                    {\"type\": \"text\", \"text\": prompt},\n",
    "                ],\n",
    "            }\n",
    "        ],\n",
    "        model=model,\n",
    "        max_tokens=300,\n",
    "    )\n",
    "    return response.choices[0].message.content\n"
   ]
  },
  {
   "cell_type": "code",
   "execution_count": 7,
   "metadata": {},
   "outputs": [],
   "source": [
    "model = \"gpt-4o\"\n",
    "\n",
    "for index in index_set: \n",
    "    with open(os.path.join(data_path, \"unified/alt_0_2_2\", f\"{index}.txt\")) as f:\n",
    "        alt = f.read()\n",
    "        prompt = get_prompt(alt)\n",
    "        response = send_prompt(prompt, model)\n",
    "        with open(os.path.join(data_path, \"test_suite/alt_0_2_2\", f\"{index}_query.txt\"), \"w\") as f2:\n",
    "            f2.write(response)"
   ]
  },
  {
   "cell_type": "code",
   "execution_count": 8,
   "metadata": {},
   "outputs": [],
   "source": [
    "for index in index_set: \n",
    "    with open(os.path.join(data_path, \"unified/alt_0_2_4\", f\"{index}.txt\")) as f:\n",
    "        alt = f.read()\n",
    "        prompt = get_prompt(alt)\n",
    "        response = send_prompt(prompt, model)\n",
    "        with open(os.path.join(data_path, \"test_suite/alt_0_2_4\", f\"{index}_query.txt\"), \"w\") as f2:\n",
    "            f2.write(response)"
   ]
  },
  {
   "cell_type": "code",
   "execution_count": 9,
   "metadata": {},
   "outputs": [],
   "source": [
    "for index in index_set: \n",
    "    with open(os.path.join(data_path, \"unified/alt_0_2_4_llm_fs_single\", f\"{index}.txt\")) as f:\n",
    "        alt = f.read()\n",
    "        prompt = get_prompt(alt)\n",
    "        response = send_prompt(prompt, model)\n",
    "        with open(os.path.join(data_path, \"test_suite/alt_0_2_4_llm_fs_single\", f\"{index}_query.txt\"), \"w\") as f2:\n",
    "            f2.write(response)"
   ]
  }
 ],
 "metadata": {
  "kernelspec": {
   "display_name": ".venv",
   "language": "python",
   "name": "python3"
  },
  "language_info": {
   "codemirror_mode": {
    "name": "ipython",
    "version": 3
   },
   "file_extension": ".py",
   "mimetype": "text/x-python",
   "name": "python",
   "nbconvert_exporter": "python",
   "pygments_lexer": "ipython3",
   "version": "3.11.4"
  }
 },
 "nbformat": 4,
 "nbformat_minor": 2
}
