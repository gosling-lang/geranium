{
 "cells": [
  {
   "cell_type": "code",
   "execution_count": 6,
   "id": "0bcd9e60-d11f-4a06-b0b7-03ef28a65de2",
   "metadata": {
    "tags": []
   },
   "outputs": [],
   "source": [
    "import os\n",
    "import re\n",
    "import csv\n",
    "\n",
    "def get_corresponding_file(query_file, unified_folder):\n",
    "    # Strip _query or _query[number] from the filename\n",
    "    base_name = re.sub(r'_query\\d*', '', query_file)\n",
    "    \n",
    "    # Search for the corresponding file in the UNIFIED folder\n",
    "    for file in os.listdir(unified_folder):\n",
    "        if file.startswith(base_name):\n",
    "            return file\n",
    "    \n",
    "    return None\n",
    "\n",
    "def strip_extension(filename):\n",
    "    return os.path.splitext(filename)[0]\n",
    "\n",
    "def write_to_tsv(query_folder, unified_folder, output_tsv):\n",
    "    query_files = os.listdir(query_folder)\n",
    "    \n",
    "    # Sort the query files alphabetically\n",
    "    query_files.sort()\n",
    "    \n",
    "    with open(output_tsv, mode='w', newline='') as tsvfile:\n",
    "        writer = csv.writer(tsvfile, delimiter='\\t')\n",
    "        \n",
    "        # Write header row\n",
    "        writer.writerow(['query', 'groundtruth'])\n",
    "        \n",
    "        for query_file in query_files:\n",
    "            if query_file.lower().endswith(('.png', '.jpg', '.jpeg', '.bmp', '.gif', '.tiff', '.tif')):\n",
    "                corresponding_file = get_corresponding_file(query_file, unified_folder)\n",
    "                if corresponding_file:\n",
    "                    query_name = strip_extension(query_file)\n",
    "                    groundtruth_name = strip_extension(corresponding_file)\n",
    "                    writer.writerow([query_name, groundtruth_name])\n",
    "\n",
    "# Define the folders and output file path\n",
    "query_folder = '../data/test_suite/imgs'\n",
    "unified_folder = '../data/unified/imgs'\n",
    "output_tsv = 'GT_absolute.tsv'\n",
    "\n",
    "write_to_tsv(query_folder, unified_folder, output_tsv)\n"
   ]
  },
  {
   "cell_type": "code",
   "execution_count": null,
   "id": "250cd694-aa55-48d4-9b8a-c062ae1a92ef",
   "metadata": {
    "tags": []
   },
   "outputs": [],
   "source": [
    "import pandas as pd\n",
    "from IPython.display import display_html, HTML\n",
    "\n",
    "def display_images_with_text_below(df):\n",
    "    html = \"\"\"<table border='1' style='border-collapse: collapse; text-align: center;'>\n",
    "              <tr><th>Query Image</th><th>Groundtruth Image</th></tr>\"\"\"\n",
    "\n",
    "    for _, row in df.iterrows():\n",
    "        html += \"<tr>\"\n",
    "\n",
    "        # Query image and text below\n",
    "        html += f\"\"\"\n",
    "            <td>\n",
    "                <img src=\"{row['image']}\" style=\"width:300px;\"><br>\n",
    "                <div style=\"padding: 4px; word-break: break-word;\">{row['query']}</div>\n",
    "            </td>\n",
    "        \"\"\"\n",
    "\n",
    "        # Groundtruth image and text below\n",
    "        html += f\"\"\"\n",
    "            <td>\n",
    "                <img src=\"{row['image_original']}\" style=\"width:300px;\"><br>\n",
    "                <div style=\"padding: 4px; word-break: break-word;\">{row['groundtruth']}</div>\n",
    "            </td>\n",
    "        \"\"\"\n",
    "\n",
    "        html += \"</tr>\"\n",
    "\n",
    "    html += \"</table>\"\n",
    "    display_html(HTML(html))\n",
    "\n",
    "# Load the TSV\n",
    "df = pd.read_csv('GT_absolute.tsv', sep='\\t')\n",
    "\n",
    "# Construct full image paths\n",
    "df['image'] = '../data/test_suite/imgs/' + df['query'] + '.png'\n",
    "df['image_original'] = '../data/unified/imgs/' + df['groundtruth'] + '.png'\n",
    "\n",
    "# Display\n",
    "display_images_with_text_below(df)\n"
   ]
  },
  {
   "cell_type": "code",
   "execution_count": null,
   "id": "7c5d9ff1-3136-486d-afa6-5fe817c17639",
   "metadata": {},
   "outputs": [],
   "source": []
  }
 ],
 "metadata": {
  "kernelspec": {
   "display_name": "Python 3 (ipykernel)",
   "language": "python",
   "name": "python3"
  },
  "language_info": {
   "codemirror_mode": {
    "name": "ipython",
    "version": 3
   },
   "file_extension": ".py",
   "mimetype": "text/x-python",
   "name": "python",
   "nbconvert_exporter": "python",
   "pygments_lexer": "ipython3",
   "version": "3.11.5"
  }
 },
 "nbformat": 4,
 "nbformat_minor": 5
}
