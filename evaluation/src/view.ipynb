{
 "cells": [
  {
   "cell_type": "code",
   "execution_count": null,
   "id": "630286a9-2870-47ef-8b92-6889ff13e556",
   "metadata": {
    "tags": []
   },
   "outputs": [],
   "source": [
    "import pandas as pd\n",
    "from IPython.display import display_html, HTML\n",
    "\n",
    "def display_images_with_text_below(df):\n",
    "    html = \"\"\"<table border='1' style='border-collapse: collapse; text-align: center;'>\n",
    "              <tr><th>Query Image</th><th>Groundtruth Image</th></tr>\"\"\"\n",
    "\n",
    "    for _, row in df.iterrows():\n",
    "        html += \"<tr>\"\n",
    "\n",
    "        # Query image and text below\n",
    "        html += f\"\"\"\n",
    "            <td>\n",
    "                <img src=\"{row['query']}\" style=\"width:300px;\"><br>\n",
    "                <div style=\"padding: 4px; word-break: break-word;\">{row['query']}</div>\n",
    "            </td>\n",
    "        \"\"\"\n",
    "\n",
    "        html += \"</tr>\"\n",
    "\n",
    "    html += \"</table>\"\n",
    "    display_html(HTML(html))\n",
    "\n",
    "# Load the TSV\n",
    "df = pd.read_csv('unmatched_queries.tsv', sep='\\t')\n",
    "\n",
    "# Construct full image paths\n",
    "df['query'] = '../data/test_suite/imgs/' + df['query'] + '.png'\n",
    "\n",
    "# Display\n",
    "display_images_with_text_below(df)\n"
   ]
  },
  {
   "cell_type": "code",
   "execution_count": null,
   "id": "544bc693-d7cd-4208-a637-11fa75403795",
   "metadata": {
    "tags": []
   },
   "outputs": [],
   "source": []
  },
  {
   "cell_type": "code",
   "execution_count": 44,
   "id": "0fbacfd3-25ad-407a-a595-3ffa57aeeeda",
   "metadata": {
    "tags": []
   },
   "outputs": [
    {
     "name": "stdout",
     "output_type": "stream",
     "text": [
      "File lengths (after header skip and cleaning):\n",
      "components/query_GT_p9.tsv: 12 rows\n",
      "components/query_GT_p8.tsv: 18 rows\n",
      "components/query_GT_p2_chromoscope.tsv: 1924 rows\n",
      "components/query_GT_p10.tsv: 4 rows\n",
      "components/query_GT_p11.tsv: 2 rows\n",
      "components/query_GT_p6.tsv: 6 rows\n",
      "components/addition4.tsv: 36 rows\n",
      "components/query_GT_p7.tsv: 14 rows\n",
      "components/query_GT_p5.tsv: 7 rows\n",
      "components/query_GT_p4.tsv: 133 rows\n",
      "components/addition2.tsv: 36 rows\n",
      "components/addition3.tsv: 58 rows\n",
      "components/query_GT_p1.tsv: 1606 rows\n",
      "components/query_GT_p3.tsv: 117 rows\n",
      "components/addition1.tsv: 54 rows\n",
      "\n",
      "Total concatenated rows: 4027\n"
     ]
    }
   ],
   "source": [
    "import pandas as pd\n",
    "import glob\n",
    "\n",
    "# Path to your TSV files (adjust the pattern as needed)\n",
    "tsv_files = glob.glob(\"components/*.tsv\")\n",
    "\n",
    "all_dfs = []\n",
    "total_rows = 0\n",
    "\n",
    "print(\"File lengths (after header skip and cleaning):\")\n",
    "for file in tsv_files:\n",
    "    # Read file skipping header row\n",
    "    df = pd.read_csv(file, sep='\\t', skiprows=1, header=None, engine='python', encoding='utf-8', on_bad_lines='skip')\n",
    "    df = df.dropna(how='all')  # Remove completely empty rows\n",
    "    print(f\"{file}: {len(df)} rows\")\n",
    "    all_dfs.append(df)\n",
    "    total_rows += len(df)\n",
    "\n",
    "# Concatenate all DataFrames\n",
    "combined_df = pd.concat(all_dfs, ignore_index=True)\n",
    "\n",
    "# Keep and rename only the first two columns\n",
    "combined_df = combined_df.iloc[:, :2]\n",
    "combined_df.columns = ['query', 'gt']\n",
    "\n",
    "# Drop rows with missing query or gt_extended\n",
    "combined_df = combined_df.dropna(subset=['query', 'gt'])\n",
    "\n",
    "# Sort alphabetically by 'query'\n",
    "combined_df = combined_df.sort_values(by='query').reset_index(drop=True)\n",
    "\n",
    "# Final length\n",
    "print(f\"\\nTotal concatenated rows: {len(combined_df)}\")\n",
    "\n",
    "# Save to TSV\n",
    "combined_df.to_csv(\"query_groundtruth.tsv\", sep='\\t', index=False)\n"
   ]
  },
  {
   "cell_type": "code",
   "execution_count": 6,
   "id": "0513ab67-12df-494f-9b07-9b39729ef0c3",
   "metadata": {
    "tags": []
   },
   "outputs": [
    {
     "name": "stdout",
     "output_type": "stream",
     "text": [
      "HTML file saved as 'groundtruth.html'\n"
     ]
    }
   ],
   "source": [
    "import pandas as pd\n",
    "\n",
    "def generate_images_with_text_html(df):\n",
    "    html = \"\"\"<html><head><meta charset=\"UTF-8\"></head><body>\n",
    "              <table border='1' style='border-collapse: collapse; text-align: center;'>\n",
    "              <tr><th>Original</th><th>Query</th><th>Groundtruth</th></tr>\"\"\"\n",
    "\n",
    "    for _, row in df.iterrows():\n",
    "        html += \"<tr>\"\n",
    "\n",
    "        # Original image and text below\n",
    "        html += f\"\"\"\n",
    "            <td>\n",
    "                <img src=\"{row['image_original']}\" style=\"width:300px;\"><br>\n",
    "                <div style=\"padding: 4px; word-break: break-word;\">{row['original']}</div>\n",
    "            </td>\n",
    "        \"\"\"\n",
    "\n",
    "        # Query image and text below\n",
    "        html += f\"\"\"\n",
    "            <td>\n",
    "                <img src=\"{row['image']}\" style=\"width:300px;\"><br>\n",
    "                <div style=\"padding: 4px; word-break: break-word;\">{row['query']}</div>\n",
    "            </td>\n",
    "        \"\"\"\n",
    "\n",
    "        # Groundtruth image and text below\n",
    "        html += f\"\"\"\n",
    "            <td>\n",
    "                <img src=\"{row['image_groundtruth']}\" style=\"width:300px;\"><br>\n",
    "                <div style=\"padding: 4px; word-break: break-word;\">{row['groundtruth']}</div>\n",
    "            </td>\n",
    "        \"\"\"\n",
    "\n",
    "        html += \"</tr>\"\n",
    "\n",
    "    html += \"</table></body></html>\"\n",
    "    return html\n",
    "\n",
    "# Load the TSV\n",
    "df = pd.read_csv('../groundtruth.tsv', sep='\\t')\n",
    "\n",
    "# Construct full image paths\n",
    "df['image'] = '../../data/test_suite/imgs/' + df['query'] + '.png'\n",
    "df['image_original'] = '../../data/unified/imgs/' + df['original'] + '.png'\n",
    "df['image_groundtruth'] = '../../data/unified/imgs/' + df['groundtruth'] + '.png'\n",
    "\n",
    "# Generate HTML\n",
    "html_output = generate_images_with_text_html(df)\n",
    "\n",
    "# Save to HTML file\n",
    "with open('groundtruth.html', 'w', encoding='utf-8') as f:\n",
    "    f.write(html_output)\n",
    "\n",
    "print(\"HTML file saved as 'groundtruth.html'\")\n"
   ]
  },
  {
   "cell_type": "code",
   "execution_count": null,
   "id": "ad9975d4-262e-49c8-8da9-8adf9711a2b4",
   "metadata": {},
   "outputs": [],
   "source": []
  }
 ],
 "metadata": {
  "kernelspec": {
   "display_name": "Python 3 (ipykernel)",
   "language": "python",
   "name": "python3"
  },
  "language_info": {
   "codemirror_mode": {
    "name": "ipython",
    "version": 3
   },
   "file_extension": ".py",
   "mimetype": "text/x-python",
   "name": "python",
   "nbconvert_exporter": "python",
   "pygments_lexer": "ipython3",
   "version": "3.11.5"
  }
 },
 "nbformat": 4,
 "nbformat_minor": 5
}
