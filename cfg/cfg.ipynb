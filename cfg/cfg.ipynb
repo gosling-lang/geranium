{
 "cells": [
  {
   "cell_type": "code",
   "execution_count": 3,
   "id": "4eaeb0fd-1048-4ec3-bce5-3c7931be8f9f",
   "metadata": {},
   "outputs": [
    {
     "data": {
      "text/html": [
       "<div>\n",
       "<style scoped>\n",
       "    .dataframe tbody tr th:only-of-type {\n",
       "        vertical-align: middle;\n",
       "    }\n",
       "\n",
       "    .dataframe tbody tr th {\n",
       "        vertical-align: top;\n",
       "    }\n",
       "\n",
       "    .dataframe thead th {\n",
       "        text-align: right;\n",
       "    }\n",
       "</style>\n",
       "<table border=\"1\" class=\"dataframe\">\n",
       "  <thead>\n",
       "    <tr style=\"text-align: center;\">\n",
       "      <th></th>\n",
       "      <th>property</th>\n",
       "      <th>value_type</th>\n",
       "    </tr>\n",
       "  </thead>\n",
       "  <tbody>\n",
       "    <tr>\n",
       "      <th>0</th>\n",
       "      <td>visibility</td>\n",
       "      <td>true</td>\n",
       "    </tr>\n",
       "    <tr>\n",
       "      <th>1</th>\n",
       "      <td>track_count</td>\n",
       "      <td>number</td>\n",
       "    </tr>\n",
       "    <tr>\n",
       "      <th>2</th>\n",
       "      <td>view_count</td>\n",
       "      <td>number</td>\n",
       "    </tr>\n",
       "    <tr>\n",
       "      <th>3</th>\n",
       "      <td>linkingId</td>\n",
       "      <td>true</td>\n",
       "    </tr>\n",
       "    <tr>\n",
       "      <th>4</th>\n",
       "      <td>row</td>\n",
       "      <td>true</td>\n",
       "    </tr>\n",
       "    <tr>\n",
       "      <th>5</th>\n",
       "      <td>alignment</td>\n",
       "      <td>overlay, stack</td>\n",
       "    </tr>\n",
       "    <tr>\n",
       "      <th>6</th>\n",
       "      <td>arrangement</td>\n",
       "      <td>parallel, serial, vertical, horizontal</td>\n",
       "    </tr>\n",
       "    <tr>\n",
       "      <th>7</th>\n",
       "      <td>layout</td>\n",
       "      <td>linear, circular</td>\n",
       "    </tr>\n",
       "    <tr>\n",
       "      <th>8</th>\n",
       "      <td>orientation</td>\n",
       "      <td>horizontal, vertical</td>\n",
       "    </tr>\n",
       "    <tr>\n",
       "      <th>9</th>\n",
       "      <td>mark</td>\n",
       "      <td>point, line, area, bar, rect, text, rule, brus...</td>\n",
       "    </tr>\n",
       "    <tr>\n",
       "      <th>10</th>\n",
       "      <td>track.data.type</td>\n",
       "      <td>json, csv, bed, beddb, vcf, gff, bigwig, multi...</td>\n",
       "    </tr>\n",
       "    <tr>\n",
       "      <th>11</th>\n",
       "      <td>data_group</td>\n",
       "      <td>sparse, contiguous</td>\n",
       "    </tr>\n",
       "    <tr>\n",
       "      <th>12</th>\n",
       "      <td>y.type</td>\n",
       "      <td>quantitative, nominal, genomic</td>\n",
       "    </tr>\n",
       "    <tr>\n",
       "      <th>13</th>\n",
       "      <td>size</td>\n",
       "      <td>data_agnostic, data_dependent</td>\n",
       "    </tr>\n",
       "    <tr>\n",
       "      <th>14</th>\n",
       "      <td>color</td>\n",
       "      <td>data_agnostic, data_dependent</td>\n",
       "    </tr>\n",
       "    <tr>\n",
       "      <th>15</th>\n",
       "      <td>text</td>\n",
       "      <td>data_agnostic, data_dependent</td>\n",
       "    </tr>\n",
       "  </tbody>\n",
       "</table>\n",
       "</div>"
      ],
      "text/plain": [
       "       property                         value_type                    \n",
       "0        visibility                                               true\n",
       "1       track_count                                             number\n",
       "2        view_count                                             number\n",
       "3         linkingId                                               true\n",
       "4               row                                               true\n",
       "5         alignment                                     overlay, stack\n",
       "6       arrangement             parallel, serial, vertical, horizontal\n",
       "7            layout                                   linear, circular\n",
       "8       orientation                               horizontal, vertical\n",
       "9              mark  point, line, area, bar, rect, text, rule, brus...\n",
       "10  track.data.type  json, csv, bed, beddb, vcf, gff, bigwig, multi...\n",
       "11       data_group                                 sparse, contiguous\n",
       "12           y.type                     quantitative, nominal, genomic\n",
       "13             size                      data_agnostic, data_dependent\n",
       "14            color                      data_agnostic, data_dependent\n",
       "15             text                      data_agnostic, data_dependent"
      ]
     },
     "execution_count": 3,
     "metadata": {},
     "output_type": "execute_result"
    }
   ],
   "source": [
    "# Reading tsv\n",
    "\n",
    "import pandas as pd\n",
    "\n",
    "# Load the TSV file\n",
    "df = pd.read_csv('leaf_node_values.tsv', sep='\\t')\n",
    "\n",
    "# Remove display limits to see the whole DataFrame\n",
    "pd.set_option('display.max_rows', None)  # Show all rows\n",
    "pd.set_option('display.max_columns', None)  # Show all columns\n",
    "pd.set_option('display.width', None)  # Adjust display width\n",
    "pd.set_option('display.colheader_justify', 'center')  # Center column headers\n",
    "\n",
    "# Preview the entire file\n",
    "df\n"
   ]
  },
  {
   "cell_type": "code",
   "execution_count": 4,
   "id": "cd3dda61-1db6-4956-a2fe-e4cf2d7ecafa",
   "metadata": {
    "tags": []
   },
   "outputs": [
    {
     "name": "stdout",
     "output_type": "stream",
     "text": [
      "Default Value for 'alignment' as a list: ['parallel', 'serial', 'vertical', 'horizontal']\n"
     ]
    }
   ],
   "source": [
    "# try reading leaf node values\n",
    "\n",
    "import pandas as pd\n",
    "\n",
    "# Example: Load a DataFrame (e.g., from a TSV file)\n",
    "df = pd.read_csv('leaf_node_values.tsv', sep='\\t')  # Replace 'file.tsv' with your file\n",
    "\n",
    "# Locate the 'alignment' row and read its Default Value\n",
    "alignment_default = df.loc[df['property'] == 'arrangement', 'value_type'].values\n",
    "\n",
    "# Ensure the value is read correctly and process it as a list\n",
    "if alignment_default.size > 0:\n",
    "    alignment_default_value = alignment_default[0]\n",
    "    # Convert to a list if it is a string of values (e.g., \"left, center, right\")\n",
    "    alignment_list = [item.strip() for item in alignment_default_value.split(',')]\n",
    "    print(\"Default Value for 'alignment' as a list:\", alignment_list)\n",
    "else:\n",
    "    print(\"Property 'alignment' not found!\")\n"
   ]
  },
  {
   "cell_type": "code",
   "execution_count": 7,
   "id": "58363ff4-f4f7-4f56-9b91-ffbb5872ea27",
   "metadata": {},
   "outputs": [
    {
     "name": "stdout",
     "output_type": "stream",
     "text": [
      "JSON objects saved to text file, each on a new line.\n"
     ]
    }
   ],
   "source": [
    "# convert json file to txt\n",
    "\n",
    "import json\n",
    "\n",
    "# Path to your JSON file\n",
    "json_file_path = \"chart2vec.json\"\n",
    "text_file_path = \"chart2vec.txt\"\n",
    "\n",
    "# Read JSON file\n",
    "with open(json_file_path, \"r\") as json_file:\n",
    "    data = json.load(json_file)  # Load JSON data\n",
    "\n",
    "# Ensure it's a list of objects\n",
    "if isinstance(data, list):\n",
    "    with open(text_file_path, \"w\") as text_file:\n",
    "        for obj in data:\n",
    "            json_string = json.dumps(obj, separators=(',', ':'))  # Convert each object to one line\n",
    "            text_file.write(json_string + \"\\n\")  # Write each JSON object in a new line\n",
    "    print(\"JSON objects saved to text file, each on a new line.\")\n",
    "else:\n",
    "    print(\"Error: JSON file must contain a list of objects.\")\n"
   ]
  },
  {
   "cell_type": "code",
   "execution_count": 8,
   "id": "c436e31d-57ed-4392-bfec-6d9ff374387d",
   "metadata": {
    "tags": []
   },
   "outputs": [
    {
     "name": "stdout",
     "output_type": "stream",
     "text": [
      "TSV file created successfully: raw-specs-list.tsv\n"
     ]
    }
   ],
   "source": [
    "# Add all JSON specs into one tsv file\n",
    "\n",
    "import os\n",
    "import json\n",
    "import csv\n",
    "\n",
    "# Directory where your JSON files are stored\n",
    "json_dir = \"../data/specs\"\n",
    "\n",
    "# Output TSV file\n",
    "output_tsv = \"raw-specs-list.tsv\"\n",
    "\n",
    "# Collect all JSON files and their content\n",
    "json_data = []\n",
    "\n",
    "# Loop through all files in the directory\n",
    "for file in os.listdir(json_dir):\n",
    "    if file.endswith(\".json\"):\n",
    "        file_path = os.path.join(json_dir, file)\n",
    "        \n",
    "        # Read the content of the JSON file\n",
    "        with open(file_path, 'r', encoding='utf-8') as json_file:\n",
    "            json_content = json.load(json_file)\n",
    "        \n",
    "        # Append the file name and content as a tuple\n",
    "        json_data.append((file, json.dumps(json_content)))\n",
    "\n",
    "# Sort the data by file name\n",
    "json_data.sort(key=lambda x: x[0])\n",
    "\n",
    "# Write sorted data to a TSV file\n",
    "with open(output_tsv, 'w', newline='', encoding='utf-8') as tsvfile:\n",
    "    writer = csv.writer(tsvfile, delimiter='\\t')\n",
    "    \n",
    "    # Write the header row\n",
    "    writer.writerow([\"File Name\", \"JSON Content\"])\n",
    "    \n",
    "    # Write sorted file data\n",
    "    for file_name, content in json_data:\n",
    "        writer.writerow([file_name, content])\n",
    "\n",
    "print(f\"TSV file created successfully: {output_tsv}\")"
   ]
  },
  {
   "cell_type": "code",
   "execution_count": 3,
   "id": "e9e9c700-b0c3-436e-ab8a-c7fad515c60c",
   "metadata": {
    "tags": []
   },
   "outputs": [
    {
     "name": "stdout",
     "output_type": "stream",
     "text": [
      "All JSON files saved in one text file, each on a separate line.\n"
     ]
    }
   ],
   "source": [
    "import json\n",
    "import os\n",
    "\n",
    "# Folder containing JSON files\n",
    "json_folder = \"../data/autogosling/specs\"  # Change this to your folder path\n",
    "output_txt_file = \"autogosling.txt\"\n",
    "\n",
    "# Get a list of JSON files in the folder\n",
    "json_files = [f for f in os.listdir(json_folder) if f.endswith(\".json\")]\n",
    "\n",
    "# Open the text file for writing\n",
    "with open(output_txt_file, \"w\") as text_file:\n",
    "    for json_file in json_files:\n",
    "        json_path = os.path.join(json_folder, json_file)\n",
    "        \n",
    "        # Read JSON file\n",
    "        with open(json_path, \"r\") as file:\n",
    "            data = json.load(file)\n",
    "        \n",
    "        # Convert JSON data to a one-line string\n",
    "        json_string = json.dumps(data, separators=(',', ':'))\n",
    "        \n",
    "        # Write each JSON file as one line\n",
    "        text_file.write(json_string + \"\\n\")\n",
    "\n",
    "print(\"All JSON files saved in one text file, each on a separate line.\")\n"
   ]
  },
  {
   "cell_type": "code",
   "execution_count": null,
   "id": "60bb6a5e-30e8-44f6-8fe7-844c861b9ab5",
   "metadata": {},
   "outputs": [],
   "source": []
  }
 ],
 "metadata": {
  "kernelspec": {
   "display_name": "Python 3 (ipykernel)",
   "language": "python",
   "name": "python3"
  },
  "language_info": {
   "codemirror_mode": {
    "name": "ipython",
    "version": 3
   },
   "file_extension": ".py",
   "mimetype": "text/x-python",
   "name": "python",
   "nbconvert_exporter": "python",
   "pygments_lexer": "ipython3",
   "version": "3.11.5"
  }
 },
 "nbformat": 4,
 "nbformat_minor": 5
}
