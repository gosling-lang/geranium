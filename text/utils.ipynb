{
 "cells": [
  {
   "cell_type": "code",
   "execution_count": 1,
   "id": "65c1a0f7-61f4-4118-8f98-b9a491d8962d",
   "metadata": {
    "tags": []
   },
   "outputs": [
    {
     "name": "stdout",
     "output_type": "stream",
     "text": [
      "The average file length is 838.8775 characters.\n"
     ]
    }
   ],
   "source": [
    "import os\n",
    "\n",
    "def average_file_length(folder_path):\n",
    "    # Initialize a total length counter and file counter\n",
    "    total_length = 0\n",
    "    file_count = 0\n",
    "\n",
    "    # Iterate over all files in the directory\n",
    "    for filename in os.listdir(folder_path):\n",
    "        # Create the full file path\n",
    "        file_path = os.path.join(folder_path, filename)\n",
    "        \n",
    "        # Check if the path is a file\n",
    "        if os.path.isfile(file_path):\n",
    "            # Open and read the file\n",
    "            with open(file_path, 'r', encoding='utf-8') as file:\n",
    "                content = file.read()\n",
    "                # Add the length of the content to the total length\n",
    "                total_length += len(content)\n",
    "                # Increment the file count\n",
    "                file_count += 1\n",
    "\n",
    "    # Return the average length if there are files, otherwise return 0\n",
    "    return total_length / file_count if file_count > 0 else 0\n",
    "\n",
    "# Example usage:\n",
    "folder_path = '../data/unified/alt_0_2_4_llm_fs_single'\n",
    "avg_length = average_file_length(folder_path)\n",
    "print(f\"The average file length is {avg_length} characters.\")"
   ]
  },
  {
   "cell_type": "code",
   "execution_count": null,
   "id": "c7b16b65-cca3-46ec-9aba-e29f8c18fea1",
   "metadata": {},
   "outputs": [],
   "source": [
    "import os\n",
    "\n",
    "def read_txt_files_and_write_output(folder_path, output_file_path):\n",
    "    # Try to get all files in the given directory\n",
    "    try:\n",
    "        files = os.listdir(folder_path)\n",
    "    except Exception as e:\n",
    "        print(f\"Error accessing the folder: {e}\")\n",
    "        return\n",
    "\n",
    "    # Filter and sort the text files with case-insensitive sorting\n",
    "    txt_files = sorted([f for f in files if f.endswith(\".txt\")], key=str.lower)\n",
    "\n",
    "    # Write the output to the specified file\n",
    "    try:\n",
    "        with open(output_file_path, 'w', encoding='utf-8') as output_file:\n",
    "            for filename in txt_files:\n",
    "                # Construct the full path to the file\n",
    "                file_path = os.path.join(folder_path, filename)\n",
    "                try:\n",
    "                    with open(file_path, 'r', encoding='utf-8') as file:\n",
    "                        content = file.read()\n",
    "                    # Write the file name\n",
    "                    output_file.write(f\"File Name: {filename}\\n\")\n",
    "                    # Write the file content\n",
    "                    output_file.write(\"Content:\\n\")\n",
    "                    output_file.write(content + \"\\n\")\n",
    "                    output_file.write(\"\\n\" + \"=\"*40 + \"\\n\\n\")\n",
    "                except Exception as e:\n",
    "                    output_file.write(f\"Could not read file {filename}: {e}\\n\")\n",
    "                    output_file.write(\"\\n\" + \"=\"*40 + \"\\n\\n\")\n",
    "    except Exception as e:\n",
    "        print(f\"Could not write to the output file: {e}\")\n",
    "\n",
    "# Example usage:\n",
    "folder_path = '../data/unified/alt_0_2_2'  # Replace with your folder path\n",
    "output_file_path = './merged_texts/alt_0_2_2.txt'\n",
    "read_txt_files_and_write_output(folder_path, output_file_path)"
   ]
  }
 ],
 "metadata": {
  "kernelspec": {
   "display_name": "Python 3 (ipykernel)",
   "language": "python",
   "name": "python3"
  },
  "language_info": {
   "codemirror_mode": {
    "name": "ipython",
    "version": 3
   },
   "file_extension": ".py",
   "mimetype": "text/x-python",
   "name": "python",
   "nbconvert_exporter": "python",
   "pygments_lexer": "ipython3",
   "version": "3.11.5"
  }
 },
 "nbformat": 4,
 "nbformat_minor": 5
}
