{
 "cells": [
  {
   "cell_type": "markdown",
   "metadata": {},
   "source": [
    "This notebook calculates the average lengths of the generated alt texts."
   ]
  },
  {
   "cell_type": "code",
   "execution_count": 1,
   "metadata": {},
   "outputs": [],
   "source": [
    "import os\n",
    "import numpy as np"
   ]
  },
  {
   "cell_type": "code",
   "execution_count": 2,
   "metadata": {},
   "outputs": [],
   "source": [
    "data_dir = \"../data\""
   ]
  },
  {
   "cell_type": "code",
   "execution_count": 3,
   "metadata": {},
   "outputs": [],
   "source": [
    "alt = os.path.join(data_dir, \"unified\", \"alt_0_2_4\")"
   ]
  },
  {
   "cell_type": "code",
   "execution_count": 4,
   "metadata": {},
   "outputs": [],
   "source": [
    "text_0_2_2 = []\n",
    "\n",
    "for a in os.listdir(alt):\n",
    "    path = os.path.join(data_dir, \"unified\", \"alt_0_2_2\", a)\n",
    "    with open(path) as f:\n",
    "        t = f.read()\n",
    "        text_0_2_2.append(t)"
   ]
  },
  {
   "cell_type": "code",
   "execution_count": 5,
   "metadata": {},
   "outputs": [],
   "source": [
    "text_0_2_4 = []\n",
    "\n",
    "for a in os.listdir(alt):\n",
    "    path = os.path.join(data_dir, \"unified\", \"alt_0_2_4\", a)\n",
    "    with open(path) as f:\n",
    "        t = f.read()\n",
    "        text_0_2_4.append(t)"
   ]
  },
  {
   "cell_type": "code",
   "execution_count": 6,
   "metadata": {},
   "outputs": [],
   "source": [
    "text_0_2_4_llm = []\n",
    "\n",
    "for a in os.listdir(alt):\n",
    "    path = os.path.join(data_dir, \"unified\", \"alt_0_2_4_llm_fs_single\", a)\n",
    "    with open(path) as f:\n",
    "        t = f.read()\n",
    "        text_0_2_4_llm.append(t)"
   ]
  },
  {
   "cell_type": "code",
   "execution_count": 7,
   "metadata": {},
   "outputs": [],
   "source": [
    "lengths_0_2_2 = [len(t) for t in text_0_2_2]\n",
    "\n",
    "lengths_0_2_4 = [len(t) for t in text_0_2_4]\n",
    "\n",
    "lengths_0_2_4_llm = [len(t) for t in text_0_2_4_llm]\n"
   ]
  },
  {
   "cell_type": "code",
   "execution_count": 8,
   "metadata": {},
   "outputs": [
    {
     "name": "stdout",
     "output_type": "stream",
     "text": [
      "1690.631875\n",
      "2169.245690495658\n",
      "563.0\n"
     ]
    }
   ],
   "source": [
    "print(np.average(lengths_0_2_4))\n",
    "print(np.std(lengths_0_2_4))\n",
    "print(np.median(lengths_0_2_4))"
   ]
  },
  {
   "cell_type": "code",
   "execution_count": 9,
   "metadata": {},
   "outputs": [
    {
     "name": "stdout",
     "output_type": "stream",
     "text": [
      "838.8775\n",
      "298.08890451298254\n",
      "774.5\n"
     ]
    }
   ],
   "source": [
    "print(np.average(lengths_0_2_4_llm))\n",
    "print(np.std(lengths_0_2_4_llm))\n",
    "print(np.median(lengths_0_2_4_llm))"
   ]
  },
  {
   "cell_type": "code",
   "execution_count": 10,
   "metadata": {},
   "outputs": [
    {
     "name": "stdout",
     "output_type": "stream",
     "text": [
      "1969.9521875\n",
      "1690.631875\n",
      "838.8775\n",
      "2689.901832530597\n",
      "2169.245690495658\n",
      "298.08890451298254\n",
      "592.0\n",
      "563.0\n",
      "774.5\n"
     ]
    }
   ],
   "source": [
    "print(np.average(lengths_0_2_2))\n",
    "print(np.average(lengths_0_2_4))\n",
    "print(np.average(lengths_0_2_4_llm))\n",
    "\n",
    "print(np.std(lengths_0_2_2))\n",
    "print(np.std(lengths_0_2_4))\n",
    "print(np.std(lengths_0_2_4_llm))\n",
    "\n",
    "print(np.median(lengths_0_2_2))\n",
    "print(np.median(lengths_0_2_4))\n",
    "print(np.median(lengths_0_2_4_llm))"
   ]
  },
  {
   "cell_type": "code",
   "execution_count": 11,
   "metadata": {},
   "outputs": [
    {
     "data": {
      "text/plain": [
       "204"
      ]
     },
     "execution_count": 11,
     "metadata": {},
     "output_type": "execute_result"
    }
   ],
   "source": [
    "len(os.listdir(os.path.join(data_dir, \"test_suite\", \"specs\")))"
   ]
  }
 ],
 "metadata": {
  "kernelspec": {
   "display_name": "Python 3 (ipykernel)",
   "language": "python",
   "name": "python3"
  },
  "language_info": {
   "codemirror_mode": {
    "name": "ipython",
    "version": 3
   },
   "file_extension": ".py",
   "mimetype": "text/x-python",
   "name": "python",
   "nbconvert_exporter": "python",
   "pygments_lexer": "ipython3",
   "version": "3.11.5"
  }
 },
 "nbformat": 4,
 "nbformat_minor": 4
}
