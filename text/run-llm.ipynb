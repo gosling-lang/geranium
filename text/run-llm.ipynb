{
 "cells": [
  {
   "cell_type": "markdown",
   "metadata": {},
   "source": [
    "This notebook creates text descriptions based on altgosling output, specs, image, with an LLM.  "
   ]
  },
  {
   "cell_type": "code",
   "execution_count": null,
   "metadata": {},
   "outputs": [],
   "source": [
    "from openai import OpenAI\n",
    "from PIL import Image\n",
    "import base64\n",
    "import os\n",
    "import json\n",
    "from dotenv import load_dotenv\n",
    "\n",
    "load_dotenv()"
   ]
  },
  {
   "cell_type": "markdown",
   "metadata": {},
   "source": [
    "You need an API key for this."
   ]
  },
  {
   "cell_type": "code",
   "execution_count": null,
   "metadata": {},
   "outputs": [],
   "source": [
    "API_KEY = os.environ['API_KEY']"
   ]
  },
  {
   "cell_type": "code",
   "execution_count": null,
   "metadata": {},
   "outputs": [],
   "source": [
    "data_repo = \"../data/unified\"\n",
    "lhs_path = \"./cfg_rules_lhs.csv\"\n",
    "\n",
    "with open(lhs_path, \"r\") as f:\n",
    "    lhs = f.read()\n",
    "\n",
    "specs_dir = os.path.join(data_repo, \"specs\")\n",
    "imgs_dir = os.path.join(data_repo, \"imgs\")\n",
    "alt_dir = os.path.join(data_repo, \"alt_0_2_4\")"
   ]
  },
  {
   "cell_type": "code",
   "execution_count": null,
   "metadata": {},
   "outputs": [],
   "source": [
    "def get_files(name):\n",
    "    with open(os.path.join(specs_dir, f\"{name}.json\"), 'r') as f:\n",
    "        spec = f.read()\n",
    "    \n",
    "    with open(os.path.join(imgs_dir, f\"{name}.png\"), \"rb\") as f:\n",
    "        img = f.read()\n",
    "    img_base64 = base64.b64encode(img).decode(\"utf-8\")\n",
    "\n",
    "    with open(os.path.join(alt_dir, \"altgosling\", f\"{name}.txt\"), \"r\") as f:\n",
    "        alt = f.read()\n",
    "\n",
    "    with open(os.path.join(alt_dir, \"processedspec\", f\"{name}.json\"), \"r\") as f:\n",
    "        processed_spec = f.read()\n",
    "\n",
    "    return {\"name\": name, \"spec\": spec, \"img\": img_base64, \"alt\": alt, \"processed_spec\": processed_spec}"
   ]
  },
  {
   "cell_type": "code",
   "execution_count": null,
   "metadata": {},
   "outputs": [],
   "source": [
    "# load few shot examples\n",
    "with open(\"few_shot_learning_examples.json\", \"r\") as f:\n",
    "    fewshot = json.load(f)\n",
    "\n",
    "fewshots = []\n",
    "for f in fewshot:\n",
    "    obj = get_files(f)\n",
    "    obj[\"description\"] = fewshot[f]\n",
    "    fewshots.append(obj)"
   ]
  },
  {
   "cell_type": "code",
   "execution_count": null,
   "metadata": {},
   "outputs": [],
   "source": [
    "prompt = f\"\"\"\n",
    "I want to generate a text description of a visualization. \n",
    "The visualization is a json specification. \n",
    "I already have created an automatic alt text.\n",
    "I also have classified the attributes of the specification.\n",
    "I will use the text description in a multimodal search engine. \n",
    "The description should be as informative as possible.\n",
    "\"\"\"\n",
    "model = \"gpt-4o\""
   ]
  },
  {
   "cell_type": "code",
   "execution_count": null,
   "metadata": {},
   "outputs": [],
   "source": [
    "## few shot result in too many tokens\n",
    "\n",
    "# prompt = f\"\"\"\n",
    "# I want to generate a text description of a visualization. \n",
    "# The visualization is a json specification. \n",
    "# I already have created an automatic alt text.\n",
    "# I also have classified the attributes of the specification.\n",
    "# I will use the text description in a multimodal search engine. \n",
    "# The description should be as informative as possible.\n",
    "\n",
    "# Here are some examples of visualizations, their specs, images, alt texts, processed specs, and the description, which is the desired output.\n",
    "# {fewshots}\n",
    "# \"\"\"\n",
    "# model = \"gpt-4o\""
   ]
  },
  {
   "cell_type": "code",
   "execution_count": null,
   "metadata": {},
   "outputs": [],
   "source": [
    "def send_prompt(prompt, model, files):\n",
    "    client = OpenAI(\n",
    "        api_key=API_KEY\n",
    "    )\n",
    "\n",
    "    response = client.chat.completions.create(\n",
    "        messages=[\n",
    "            {\n",
    "                \"role\": \"user\",\n",
    "                \"content\": [\n",
    "                    {\"type\": \"text\", \"text\": prompt},\n",
    "                    {\"type\": \"text\", \"text\": f\"spec: {files['spec']}\"},\n",
    "                    {\"type\": \"text\", \"text\": f\"processed spec: {files['processed_spec']}\"},\n",
    "                    {\"type\": \"text\", \"text\": f\"altgosling alt: {files['alt']}\"},\n",
    "                    {\"type\": \"text\", \"text\": f\"attribute classification: {lhs}\"},\n",
    "                    {\"type\": \"image_url\",\n",
    "                     \"image_url\": {\n",
    "                         \"url\": f\"data:image/png;base64,{files['img']}\",\n",
    "                     }}\n",
    "                ],\n",
    "            }\n",
    "        ],\n",
    "        model=model,\n",
    "        max_tokens=300,\n",
    "    )\n",
    "    return response.choices[0].message.content\n"
   ]
  },
  {
   "cell_type": "code",
   "execution_count": null,
   "metadata": {},
   "outputs": [],
   "source": [
    "# specs = os.listdir(specs_dir)\n",
    "\n",
    "# for example in specs[0:1]:\n",
    "#     name_i = example.split(\".json\")[0]\n",
    "#     files = get_files(name_i)\n",
    "\n",
    "#     response = send_prompt(prompt, model, files)\n",
    "#     print(response)"
   ]
  },
  {
   "cell_type": "code",
   "execution_count": null,
   "metadata": {},
   "outputs": [],
   "source": [
    "specs = os.listdir(specs_dir)\n",
    "\n",
    "for example in specs[0:10]:\n",
    "    name_i = example.split(\".json\")[0]\n",
    "    files = get_files(name_i)\n",
    "\n",
    "    response = send_prompt(prompt, model, files)\n",
    "    with open(os.path.join(alt_dir, \"altgosling-llm\", f\"{name_i}.txt\"), \"w\") as f:\n",
    "        f.write(response)"
   ]
  },
  {
   "cell_type": "code",
   "execution_count": null,
   "metadata": {},
   "outputs": [],
   "source": [
    "specs[0:10]"
   ]
  }
 ],
 "metadata": {
  "kernelspec": {
   "display_name": ".venv",
   "language": "python",
   "name": "python3"
  },
  "language_info": {
   "codemirror_mode": {
    "name": "ipython",
    "version": 3
   },
   "file_extension": ".py",
   "mimetype": "text/x-python",
   "name": "python",
   "nbconvert_exporter": "python",
   "pygments_lexer": "ipython3",
   "version": "3.11.4"
  }
 },
 "nbformat": 4,
 "nbformat_minor": 2
}
