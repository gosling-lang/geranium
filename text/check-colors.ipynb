{
 "cells": [
  {
   "cell_type": "markdown",
   "metadata": {},
   "source": [
    "This notebook checks the colors used in the database."
   ]
  },
  {
   "cell_type": "code",
   "execution_count": 1,
   "metadata": {},
   "outputs": [],
   "source": [
    "import os\n",
    "import json"
   ]
  },
  {
   "cell_type": "code",
   "execution_count": 2,
   "metadata": {},
   "outputs": [],
   "source": [
    "data_dir = \"../data/unified\""
   ]
  },
  {
   "cell_type": "code",
   "execution_count": 3,
   "metadata": {},
   "outputs": [],
   "source": [
    "spec_files = os.listdir(os.path.join(data_dir, \"specs\"))"
   ]
  },
  {
   "cell_type": "code",
   "execution_count": 4,
   "metadata": {},
   "outputs": [],
   "source": [
    "def retrieve_color(spec):\n",
    "    if \"color\" in spec:\n",
    "        if \"value\" in spec[\"color\"]:\n",
    "            return spec[\"color\"][\"value\"]\n",
    "        if \"range\" in spec[\"color\"]:\n",
    "            return spec[\"color\"][\"range\"]\n",
    "    for key in spec:\n",
    "        if isinstance(spec[key], dict):\n",
    "            color = retrieve_color(spec[key])\n",
    "            if color:\n",
    "                return color\n",
    "    return None"
   ]
  },
  {
   "cell_type": "code",
   "execution_count": 5,
   "metadata": {},
   "outputs": [],
   "source": [
    "def retrieve_colors(files, dir):\n",
    "    unique_colors = []\n",
    "    for file in files:\n",
    "        file_path = os.path.join(dir, \"specs\", file)\n",
    "        with open(file_path, \"r\") as f:\n",
    "            try:\n",
    "                spec = json.load(f)\n",
    "                c = retrieve_color(spec)\n",
    "                if c: \n",
    "                    unique_colors.extend(c)\n",
    "            except:\n",
    "                print(f\"Error loading file {file_path}\")\n",
    "    return unique_colors"
   ]
  },
  {
   "cell_type": "code",
   "execution_count": 6,
   "metadata": {},
   "outputs": [],
   "source": [
    "c1 = retrieve_colors(spec_files, data_dir)"
   ]
  },
  {
   "cell_type": "code",
   "execution_count": 7,
   "metadata": {},
   "outputs": [
    {
     "data": {
      "text/plain": [
       "{'#17becf',\n",
       " '#1f77b4',\n",
       " '#2ca02c',\n",
       " '#7585FF',\n",
       " '#7f7f7f',\n",
       " '#8c564b',\n",
       " '#9467bd',\n",
       " '#FF8A85',\n",
       " '#bcbd22',\n",
       " '#d62728',\n",
       " '#e377c2',\n",
       " '#ff7f0e'}"
      ]
     },
     "execution_count": 7,
     "metadata": {},
     "output_type": "execute_result"
    }
   ],
   "source": [
    "set(c1)"
   ]
  }
 ],
 "metadata": {
  "kernelspec": {
   "display_name": ".venv",
   "language": "python",
   "name": "python3"
  },
  "language_info": {
   "codemirror_mode": {
    "name": "ipython",
    "version": 3
   },
   "file_extension": ".py",
   "mimetype": "text/x-python",
   "name": "python",
   "nbconvert_exporter": "python",
   "pygments_lexer": "ipython3",
   "version": "3.11.4"
  }
 },
 "nbformat": 4,
 "nbformat_minor": 2
}
