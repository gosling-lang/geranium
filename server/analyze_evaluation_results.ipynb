{
 "cells": [
  {
   "cell_type": "code",
   "execution_count": 32,
   "id": "d434adb1-825f-47fb-8c50-e6159f57a130",
   "metadata": {},
   "outputs": [],
   "source": [
    "import pandas as pd"
   ]
  },
  {
   "cell_type": "code",
   "execution_count": 33,
   "id": "c97eda7d-af8b-44bc-810a-5f8cbf9241f6",
   "metadata": {},
   "outputs": [],
   "source": [
    "NUM_TEST_EXAMPLES = 204"
   ]
  },
  {
   "cell_type": "code",
   "execution_count": 34,
   "id": "1f70dfeb-fc95-4fd3-903a-abe9857a1a4d",
   "metadata": {},
   "outputs": [
    {
     "data": {
      "text/html": [
       "<div>\n",
       "<style scoped>\n",
       "    .dataframe tbody tr th:only-of-type {\n",
       "        vertical-align: middle;\n",
       "    }\n",
       "\n",
       "    .dataframe tbody tr th {\n",
       "        vertical-align: top;\n",
       "    }\n",
       "\n",
       "    .dataframe thead th {\n",
       "        text-align: right;\n",
       "    }\n",
       "</style>\n",
       "<table border=\"1\" class=\"dataframe\">\n",
       "  <thead>\n",
       "    <tr style=\"text-align: right;\">\n",
       "      <th></th>\n",
       "      <th>query_file</th>\n",
       "      <th>query_type</th>\n",
       "      <th>target_embedding_type</th>\n",
       "      <th>smallest_k_matched</th>\n",
       "    </tr>\n",
       "  </thead>\n",
       "  <tbody>\n",
       "    <tr>\n",
       "      <th>0</th>\n",
       "      <td>EX_SPEC_TEMPLATE_sw_1_0_s_1_0_oc_query1.png</td>\n",
       "      <td>imgs</td>\n",
       "      <td>text</td>\n",
       "      <td>979</td>\n",
       "    </tr>\n",
       "  </tbody>\n",
       "</table>\n",
       "</div>"
      ],
      "text/plain": [
       "                                    query_file query_type  \\\n",
       "0  EX_SPEC_TEMPLATE_sw_1_0_s_1_0_oc_query1.png       imgs   \n",
       "\n",
       "  target_embedding_type  smallest_k_matched  \n",
       "0                  text                 979  "
      ]
     },
     "execution_count": 34,
     "metadata": {},
     "output_type": "execute_result"
    }
   ],
   "source": [
    "df = pd.read_csv('evaluation_results-mar_27_5pm.csv')\n",
    "df.drop(columns=['Unnamed: 0.1', 'Unnamed: 0'], inplace=True)\n",
    "df.head(1)"
   ]
  },
  {
   "cell_type": "code",
   "execution_count": 35,
   "id": "4174aa69-cf00-401e-9d4d-511fcc485524",
   "metadata": {},
   "outputs": [],
   "source": [
    "for k in range(1, 11):\n",
    "    column_name = f'k_{k}'\n",
    "    df[column_name] = df.smallest_k_matched\n",
    "    df[column_name] = df[column_name].apply(lambda x: 1 if x <= k else 0)"
   ]
  },
  {
   "cell_type": "code",
   "execution_count": 36,
   "id": "3852e317-cd70-40f3-8e1a-d89da89a52a1",
   "metadata": {},
   "outputs": [
    {
     "data": {
      "text/html": [
       "<div>\n",
       "<style scoped>\n",
       "    .dataframe tbody tr th:only-of-type {\n",
       "        vertical-align: middle;\n",
       "    }\n",
       "\n",
       "    .dataframe tbody tr th {\n",
       "        vertical-align: top;\n",
       "    }\n",
       "\n",
       "    .dataframe thead th {\n",
       "        text-align: right;\n",
       "    }\n",
       "</style>\n",
       "<table border=\"1\" class=\"dataframe\">\n",
       "  <thead>\n",
       "    <tr style=\"text-align: right;\">\n",
       "      <th></th>\n",
       "      <th>query_type</th>\n",
       "      <th>target_embedding_type</th>\n",
       "      <th>query_file</th>\n",
       "      <th>smallest_k_matched</th>\n",
       "      <th>k_1</th>\n",
       "      <th>k_2</th>\n",
       "      <th>k_3</th>\n",
       "      <th>k_4</th>\n",
       "      <th>k_5</th>\n",
       "      <th>k_6</th>\n",
       "      <th>k_7</th>\n",
       "      <th>k_8</th>\n",
       "      <th>k_9</th>\n",
       "      <th>k_10</th>\n",
       "    </tr>\n",
       "  </thead>\n",
       "  <tbody>\n",
       "    <tr>\n",
       "      <th>0</th>\n",
       "      <td>alt</td>\n",
       "      <td>image</td>\n",
       "      <td>204</td>\n",
       "      <td>204</td>\n",
       "      <td>204</td>\n",
       "      <td>204</td>\n",
       "      <td>204</td>\n",
       "      <td>204</td>\n",
       "      <td>204</td>\n",
       "      <td>204</td>\n",
       "      <td>204</td>\n",
       "      <td>204</td>\n",
       "      <td>204</td>\n",
       "      <td>204</td>\n",
       "    </tr>\n",
       "  </tbody>\n",
       "</table>\n",
       "</div>"
      ],
      "text/plain": [
       "  query_type target_embedding_type  query_file  smallest_k_matched  k_1  k_2  \\\n",
       "0        alt                 image         204                 204  204  204   \n",
       "\n",
       "   k_3  k_4  k_5  k_6  k_7  k_8  k_9  k_10  \n",
       "0  204  204  204  204  204  204  204   204  "
      ]
     },
     "execution_count": 36,
     "metadata": {},
     "output_type": "execute_result"
    }
   ],
   "source": [
    "df.groupby(['query_type', 'target_embedding_type']).count().reset_index().head(1)"
   ]
  },
  {
   "cell_type": "code",
   "execution_count": 42,
   "id": "81577a3f-32a8-44d1-b111-f256a2907028",
   "metadata": {},
   "outputs": [
    {
     "name": "stderr",
     "output_type": "stream",
     "text": [
      "/var/folders/gt/f9y6f2l93wj459z7zbwd4gc80000gq/T/ipykernel_56173/978388710.py:1: FutureWarning: The default value of numeric_only in DataFrameGroupBy.sum is deprecated. In a future version, numeric_only will default to False. Either specify numeric_only or select only columns which should be valid for the function.\n",
      "  agg = df.groupby(['query_type', 'target_embedding_type']).sum().reset_index()\n"
     ]
    }
   ],
   "source": [
    "agg = df.groupby(['query_type', 'target_embedding_type']).sum().reset_index()\n",
    "\n",
    "for k in range(1, 11):\n",
    "    column_name = f'k_{k}'\n",
    "    agg[column_name] = agg[column_name] / NUM_TEST_EXAMPLES"
   ]
  },
  {
   "cell_type": "code",
   "execution_count": 44,
   "id": "96419543-de97-434c-8932-7d18bed95f57",
   "metadata": {},
   "outputs": [],
   "source": [
    "agg.to_csv('k-accuracy-of_evaluation_results-mar_27_5pm.csv', index=False)"
   ]
  },
  {
   "cell_type": "code",
   "execution_count": null,
   "id": "00481f1b-bceb-4a5c-81bb-af087cc40faa",
   "metadata": {},
   "outputs": [],
   "source": []
  }
 ],
 "metadata": {
  "kernelspec": {
   "display_name": "Python 3 (ipykernel)",
   "language": "python",
   "name": "python3"
  },
  "language_info": {
   "codemirror_mode": {
    "name": "ipython",
    "version": 3
   },
   "file_extension": ".py",
   "mimetype": "text/x-python",
   "name": "python",
   "nbconvert_exporter": "python",
   "pygments_lexer": "ipython3",
   "version": "3.11.5"
  }
 },
 "nbformat": 4,
 "nbformat_minor": 5
}
