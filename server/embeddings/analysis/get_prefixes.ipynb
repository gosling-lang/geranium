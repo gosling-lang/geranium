{
 "cells": [
  {
   "cell_type": "code",
   "execution_count": 1,
   "metadata": {},
   "outputs": [],
   "source": [
    "import os\n",
    "import pandas as pd\n",
    "from functools import cmp_to_key"
   ]
  },
  {
   "cell_type": "code",
   "execution_count": 2,
   "metadata": {},
   "outputs": [],
   "source": [
    "data_dir = \"..\""
   ]
  },
  {
   "cell_type": "code",
   "execution_count": 3,
   "metadata": {},
   "outputs": [],
   "source": [
    "df = pd.read_parquet(os.path.join(data_dir, 'image_embeddings.parquet'))"
   ]
  },
  {
   "cell_type": "code",
   "execution_count": 4,
   "metadata": {},
   "outputs": [],
   "source": [
    "files = [x.split('.png')[0] for x in list(df['file_name'])]\n",
    "files.sort()"
   ]
  },
  {
   "cell_type": "code",
   "execution_count": 5,
   "metadata": {},
   "outputs": [
    {
     "name": "stdout",
     "output_type": "stream",
     "text": [
      "117\n"
     ]
    }
   ],
   "source": [
    "def extract_prefix(filename):\n",
    "    min_index = min((filename.find(sep) for sep in list_of_separators if sep in filename), default=len(filename))\n",
    "    return filename[:min_index]\n",
    "\n",
    "list_of_separators = [\"_sw\", \"_s\", \"_p\", \"_m\", \"_cc\", \"_oc\"]\n",
    "chromoscope = [\"BOCA\", \"BRCA\", \"BTCA\", \"GBM\", \"LIRI\", \"PBCA\"]\n",
    "chromoscope2 = [\"breast-\", \"gastric\", \"kidney\", \"ovarian serous cystadenocarcinoma\", \"ovarian\", \"prostate adenocarcinoma\", \"sarcoma\"]\n",
    "prefixes1 = {extract_prefix(f) for f in files if not any(chromo in f for chromo in chromoscope) and not any(chromo2 in f for chromo2 in chromoscope2)}\n",
    "prefixes2 = {\"-\".join(f.split(\"-\")[0:2]) for f in files if any(chromo in f for chromo in chromoscope)}\n",
    "prefixes3 = {f.split(\"-\")[0] for f in files if any(chromo2 in f for chromo2 in chromoscope2)}\n",
    "\n",
    "prefixes = prefixes1 | prefixes2 | prefixes3\n",
    "print(len(prefixes))"
   ]
  },
  {
   "cell_type": "code",
   "execution_count": 6,
   "metadata": {},
   "outputs": [],
   "source": [
    "# Sort alphabetically first, and then by length in reverse order (longest first)\n",
    "def sorting(x, y):\n",
    "    if x.startswith(y): \n",
    "        return -1\n",
    "    if y.startswith(x): \n",
    "        return 1\n",
    "    return (x > y) - (x < y)\n",
    "    \n",
    "prefixes_sorted = sorted(prefixes, key=cmp_to_key(sorting))"
   ]
  },
  {
   "cell_type": "code",
   "execution_count": 8,
   "metadata": {},
   "outputs": [],
   "source": [
    "with open(\"prefixes.txt\", \"w\") as f: \n",
    "    for i, prefix in enumerate(prefixes_sorted):\n",
    "        f.write(prefix)\n",
    "        if i < len(prefixes_sorted)-1:\n",
    "            f.write(\"\\n\")"
   ]
  }
 ],
 "metadata": {
  "kernelspec": {
   "display_name": ".venv",
   "language": "python",
   "name": "python3"
  },
  "language_info": {
   "codemirror_mode": {
    "name": "ipython",
    "version": 3
   },
   "file_extension": ".py",
   "mimetype": "text/x-python",
   "name": "python",
   "nbconvert_exporter": "python",
   "pygments_lexer": "ipython3",
   "version": "3.11.4"
  }
 },
 "nbformat": 4,
 "nbformat_minor": 2
}
